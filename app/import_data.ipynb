{
 "cells": [
  {
   "cell_type": "code",
   "execution_count": null,
   "metadata": {},
   "outputs": [],
   "source": [
    "from application.helpers.utils import *\n",
    "from application.main.AccessData import AccessData"
   ]
  },
  {
   "cell_type": "code",
   "execution_count": null,
   "metadata": {},
   "outputs": [],
   "source": [
    "ECOSYSTEM = ...\n",
    "RESULTS_DIR = ..."
   ]
  },
  {
   "cell_type": "code",
   "execution_count": null,
   "metadata": {},
   "outputs": [],
   "source": [
    "def post_data(class_object, data, item_type):\n",
    "    if item_type in [\"patch\", \"comment\"]:\n",
    "        for item in data:\n",
    "            if item[\"msg_content\"]:\n",
    "                item[\"msg_content\"] = item[\"msg_content\"].replace(\"\\u0000\", \"\")\n",
    "    elif item_type == \"mailinglist\":\n",
    "        for item in data:\n",
    "            if item[\"content\"]:\n",
    "                item[\"content\"] = item[\"content\"].replace(\"\\u0000\", \"\")\n",
    "\n",
    "    class_object.insert_data(data, item_type)"
   ]
  },
  {
   "cell_type": "code",
   "execution_count": null,
   "metadata": {},
   "outputs": [],
   "source": [
    "access_data = AccessData()\n",
    "data_types = ['identity', 'project', 'mailinglist', 'individual', 'series', 'newseries', 'change1', 'change2', 'patch', 'comment']\n",
    "\n",
    "for item_type in data_types:\n",
    "    print(\"==================================================\\n\")\n",
    "    print(item_type)\n",
    "    current_data = load_json(\n",
    "        f\"{RESULTS_DIR}{ECOSYSTEM}/{ECOSYSTEM}_{item_type}.jl\")\n",
    "    post_data(access_data, current_data, item_type)\n"
   ]
  }
 ],
 "metadata": {
  "kernelspec": {
   "display_name": "msrenv",
   "language": "python",
   "name": "python3"
  },
  "language_info": {
   "name": "python",
   "version": "3.9.13"
  }
 },
 "nbformat": 4,
 "nbformat_minor": 2
}
