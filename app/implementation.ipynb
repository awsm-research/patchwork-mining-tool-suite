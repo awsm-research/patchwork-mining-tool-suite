{
 "cells": [
  {
   "cell_type": "code",
   "execution_count": null,
   "metadata": {},
   "outputs": [],
   "source": [
    "import time\n",
    "import jsonlines\n",
    "from application.main.ProcessPatch import ProcessPatch\n",
    "from application.main.ProcessIdentity import ProcessIdentity\n",
    "from application.main.ProcessMailingList import ProcessMailingList\n",
    "from application.helpers.utils import *"
   ]
  },
  {
   "cell_type": "code",
   "execution_count": null,
   "metadata": {},
   "outputs": [],
   "source": [
    "ECOSYSTEM = ...\n",
    "RAW_DATA_DIR = ...\n",
    "RESULTS_DIR = ..."
   ]
  },
  {
   "cell_type": "code",
   "execution_count": null,
   "metadata": {},
   "outputs": [],
   "source": [
    "def output_data(target_data, target_data_type):\n",
    "    with jsonlines.open(f'{RESULTS_DIR}{ECOSYSTEM}/{ECOSYSTEM}_{target_data_type}.jl', 'w') as writer:\n",
    "        writer.write_all(target_data)\n"
   ]
  },
  {
   "cell_type": "markdown",
   "metadata": {},
   "source": [
    "### Process mailing list data"
   ]
  },
  {
   "cell_type": "code",
   "execution_count": null,
   "metadata": {},
   "outputs": [],
   "source": [
    "raw_data_mailinglist_path = f'{RAW_DATA_DIR}{ECOSYSTEM}/{ECOSYSTEM}_mailinglist.jl'\n",
    "\n",
    "raw_data_mailinglist = load_json(raw_data_mailinglist_path)\n",
    "\n",
    "process_mailinglist = ProcessMailingList()\n",
    "\n",
    "processed_data_mailinglist = process_mailinglist.organise_data(raw_data_mailinglist)\n",
    "\n",
    "output_data(processed_data_mailinglist, 'mailinglist')\n"
   ]
  },
  {
   "cell_type": "markdown",
   "metadata": {},
   "source": [
    "### Group identities"
   ]
  },
  {
   "cell_type": "code",
   "execution_count": null,
   "metadata": {},
   "outputs": [],
   "source": [
    "# get file paths\n",
    "raw_data_identity_path = f'{RAW_DATA_DIR}{ECOSYSTEM}/{ECOSYSTEM}_identity.jl'\n",
    "\n",
    "# load data\n",
    "raw_data_identity = load_json(raw_data_identity_path)\n",
    "\n",
    "# instantiate process_identity class\n",
    "process_identity = ProcessIdentity()\n",
    "\n",
    "# organise data by projects\n",
    "organised_raw_data_identity = process_identity.organise_identity_data_by_project(raw_data_identity)\n",
    "\n",
    "# group identities\n",
    "processed_data_individual = []\n",
    "\n",
    "for project_oid, data in organised_raw_data_identity.items():\n",
    "    current_data_individual = process_identity.identity_grouping(data, project_oid)\n",
    "\n",
    "    processed_data_individual.extend(current_data_individual)\n",
    "\n",
    "output_data(processed_data_individual, 'individual')\n",
    "\n",
    "# update individual oid in series data\n",
    "raw_data_series_path = f'{RAW_DATA_DIR}{ECOSYSTEM}/{ECOSYSTEM}_series.jl'\n",
    "raw_data_series = load_json(raw_data_series_path)\n",
    "\n",
    "processed_data_series = insert_individual_original_id(processed_data_individual, raw_data_series)\n",
    "output_data(processed_data_individual, 'series')\n"
   ]
  },
  {
   "cell_type": "markdown",
   "metadata": {},
   "source": [
    "### Group patches"
   ]
  },
  {
   "cell_type": "code",
   "execution_count": null,
   "metadata": {},
   "outputs": [],
   "source": [
    "# get file paths\n",
    "processed_data_individual_path = f'{RESULTS_DIR}{ECOSYSTEM}/{ECOSYSTEM}_individual.jl'\n",
    "processed_data_mailinglist_path = f'{RESULTS_DIR}{ECOSYSTEM}/{ECOSYSTEM}_mailinglist.jl'\n",
    "\n",
    "raw_data_patch_path = f'{RAW_DATA_DIR}{ECOSYSTEM}/{ECOSYSTEM}_patch.jl'\n",
    "raw_data_comment_path = f'{RAW_DATA_DIR}{ECOSYSTEM}/{ECOSYSTEM}_comment.jl'\n",
    "\n",
    "# load data\n",
    "# imported data contains all projects of an ecosystem\n",
    "processed_data_individual = load_json(processed_data_individual_path)\n",
    "raw_data_patch = load_json(raw_data_patch_path)\n",
    "raw_data_comment = load_json(raw_data_comment_path)\n",
    "\n",
    "process_mailinglist = ProcessMailingList()\n",
    "processed_data_mailinglist = process_mailinglist.organise_data_by_project(load_json(processed_data_mailinglist_path))\n",
    "\n",
    "# instantiate process_patch class\n",
    "process_patch = ProcessPatch()\n",
    "\n",
    "# organise data by projects\n",
    "organised_processed_data_individual, organised_raw_data_patch, organised_raw_data_comment = [\n",
    "    process_patch.organise_data_by_project(data)\n",
    "    for data in [processed_data_individual, raw_data_patch, raw_data_comment]\n",
    "]\n",
    "\n",
    "# initialise variables\n",
    "processed_data_newseries, processed_data_patch, processed_data_comment, conservative_changes, relaxed_changes = [], [], [], [], []\n",
    "processed_data = [processed_data_newseries, processed_data_patch, processed_data_comment, conservative_changes, relaxed_changes]\n",
    "\n",
    "# iterate each project\n",
    "st = time.time()\n",
    "project_oids = list(organised_raw_data_patch.keys())\n",
    "for project_oid in project_oids:\n",
    "    start_time = time.time()\n",
    "\n",
    "    current_data_individual = organised_processed_data_individual[project_oid]\n",
    "    current_data_patch = organised_raw_data_patch[project_oid]\n",
    "    current_data_comment = organised_raw_data_comment[project_oid]\n",
    "\n",
    "    # processed_data_newseries, processed_data_patch, processed_data_comment, conservative_changes, relaxed_changes\n",
    "    results = process_patch.patch_grouping(current_data_patch, current_data_comment, current_data_individual)\n",
    "\n",
    "    # insert mailing list orginal id to patch data\n",
    "    process_patch.insert_mailinglist_id(processed_data_mailinglist[project_oid], results[1])\n",
    "\n",
    "    # insert mailing list orginal id to comment data\n",
    "    process_patch.insert_mailinglist_id(processed_data_mailinglist[project_oid], results[2])\n",
    "\n",
    "    # store newly processed project data\n",
    "    [processed_data[i].extend(results[i]) for i in range(len(results))]\n",
    "\n",
    "    end_time = time.time()\n",
    "    print(f'{project_oid}: {(end_time - start_time) / 60: .2f} min')\n",
    "    print()\n",
    "\n",
    "et = time.time()\n",
    "print(f'total time: {(et - st) / 60: .2f} min')\n",
    "data_types = ['newseries', 'patch', 'comment', 'change1', 'change2']\n",
    "[output_data(data, data_type) for data, data_type in zip(processed_data, data_types)]"
   ]
  }
 ],
 "metadata": {
  "kernelspec": {
   "display_name": "msrenv",
   "language": "python",
   "name": "python3"
  },
  "language_info": {
   "codemirror_mode": {
    "name": "ipython",
    "version": 3
   },
   "file_extension": ".py",
   "mimetype": "text/x-python",
   "name": "python",
   "nbconvert_exporter": "python",
   "pygments_lexer": "ipython3",
   "version": "3.9.13"
  }
 },
 "nbformat": 4,
 "nbformat_minor": 2
}
