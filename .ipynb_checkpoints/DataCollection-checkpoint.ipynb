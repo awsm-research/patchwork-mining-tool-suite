{
 "cells": [
  {
   "cell_type": "code",
   "execution_count": null,
   "id": "96ea16c5-62f6-43b4-b51d-7a5ddbab824c",
   "metadata": {
    "pycharm": {
     "name": "#%%\n"
    }
   },
   "outputs": [],
   "source": [
    "import requests\n",
    "import mysql.connector\n",
    "import time\n",
    "\n",
    "from mysql.connector import Error\n",
    "from threading import Thread"
   ]
  },
  {
   "cell_type": "code",
   "execution_count": null,
   "id": "82de5590-b877-4d10-b869-3e50d1406751",
   "metadata": {},
   "outputs": [],
   "source": [
    "HOST = 'localhost'\n",
    "DATABASE = 'code_review'\n",
    "USER = 'root'\n",
    "PASSWORD = 'comp90055_MSR'\n",
    "\n",
    "NAME = ['kernel', 'ozlabs', 'ffmpeg']\n",
    "CATEGORY = ['projects', 'series', 'patches']\n",
    "INVALID_PAGE = {\n",
    "    \"detail\": \"Invalid page.\"\n",
    "}"
   ]
  },
  {
   "cell_type": "code",
   "execution_count": null,
   "id": "66b4d249",
   "metadata": {
    "collapsed": false,
    "jupyter": {
     "outputs_hidden": false
    },
    "pycharm": {
     "name": "#%%\n"
    }
   },
   "outputs": [],
   "source": [
    "def connect(host, database, user, password):\n",
    "    \"\"\" Connect to MySQL database \"\"\"\n",
    "    connection = None\n",
    "    try:\n",
    "        connection = mysql.connector.connect(host=HOST,\n",
    "                                       database=DATABASE,\n",
    "                                       user=USER,\n",
    "                                       password=PASSWORD)\n",
    "        if connection.is_connected():\n",
    "            print('Connected to MySQL database')\n",
    "\n",
    "    except Error as e:\n",
    "        print(e)\n",
    "\n",
    "    # finally:\n",
    "    #     if conn is not None and conn.is_connected():\n",
    "    #         conn.close()\n",
    "    return connection"
   ]
  },
  {
   "cell_type": "code",
   "execution_count": null,
   "id": "848aabab",
   "metadata": {
    "collapsed": false,
    "jupyter": {
     "outputs_hidden": false
    },
    "pycharm": {
     "name": "#%%\n"
    }
   },
   "outputs": [],
   "source": [
    "def deactivate_quote(text):\n",
    "    if text:\n",
    "        split_text = list(text)\n",
    "        for i in range(len(split_text)):\n",
    "            if (split_text[i] in [\"'\", '\"'] and split_text[i - 1] != '\\\\') or (split_text[i - 3:i + 1] == '\\\\\\\\\\\"'):\n",
    "                split_text[i] = '\\\\' + split_text[i]\n",
    "        temp_text = ''.join(split_text)\n",
    "        return temp_text\n",
    "    else:\n",
    "        return ''"
   ]
  },
  {
   "cell_type": "code",
   "execution_count": null,
   "id": "6d831603-244b-4c22-abf2-17731bc87056",
   "metadata": {},
   "outputs": [],
   "source": [
    "def retrieve_basic_info(json):\n",
    "    api_id = 'id'\n",
    "    api_url = 'url'\n",
    "    name = 'name'\n",
    "    web_url = 'web_url'\n",
    "    \n",
    "    info = [api_id, api_url, name, web_url]\n",
    "    \n",
    "    for i in range(len(info)):\n",
    "        try:\n",
    "            info[i] = json[info[i]]\n",
    "        except KeyError:\n",
    "            info[i] = None\n",
    "    return info"
   ]
  },
  {
   "cell_type": "code",
   "execution_count": null,
   "id": "6b1fb1c7-5468-4427-9936-28e92266424b",
   "metadata": {},
   "outputs": [],
   "source": [
    "def insert_account(cursor, original_id, email, username, api_url):\n",
    "    cursor.execute(f'''SELECT id FROM account WHERE original_id = \"{original_id}\"''')\n",
    "    if not cursor.fetchall():\n",
    "        query_insert_account = f'''INSERT IGNORE INTO account VALUES (null, \"{original_id}\", \"{email}\", \"{username}\", \"{api_url}\")'''\n",
    "        cursor.execute(query_insert_account)"
   ]
  },
  {
   "cell_type": "code",
   "execution_count": null,
   "id": "f8759dde-d535-4edc-accf-abd66cddb65f",
   "metadata": {},
   "outputs": [],
   "source": [
    "def retrieve_project_data(endpoint_name, json_project, connection, cursor):\n",
    "    # print(f\"retrieving project: {json_project['url']}\")\n",
    "    # project info\n",
    "    project_api_id, project_api_url, project_name, project_web_url = retrieve_basic_info(json_project)\n",
    "    project_repo_url = deactivate_quote(json_project['webscm_url'])\n",
    "    project_list_id = deactivate_quote(json_project['list_id'])\n",
    "    project_list_address = deactivate_quote(json_project['list_email'])\n",
    "    \n",
    "    project_original_id = '-'.join([endpoint_name, 'project', str(project_api_id)])\n",
    "\n",
    "    query_insert_project = f'''INSERT IGNORE INTO project VALUES(null, \"{project_original_id}\", \"{project_name}\", \"{project_repo_url}\", \"{project_api_url}\", \"{project_web_url}\", \"{project_list_id}\", \"{project_list_address}\")'''\n",
    "    cursor.execute(query_insert_project)\n",
    "\n",
    "    # maintainer_info\n",
    "    maintainers = json_project['maintainers']\n",
    "    for maintainer in maintainers:\n",
    "        maintainer_api_id, maintainer_api_url, _, _ = retrieve_basic_info(maintainer)\n",
    "        maintainer_original_id = '-'.join([endpoint_name, 'people', str(maintainer_api_id)])\n",
    "        maintainer_username = deactivate_quote(maintainer['username'])\n",
    "        maintainer_email = deactivate_quote(maintainer['email'])\n",
    "\n",
    "        insert_account(cursor, maintainer_original_id, maintainer_email, maintainer_username, maintainer_api_url)\n",
    "        \n",
    "        query_maintainer = f'''INSERT IGNORE INTO maintainer VALUES (\"{maintainer_original_id}\", \"{project_original_id}\")'''\n",
    "        cursor.execute(query_maintainer)\n",
    "\n",
    "    connection.commit()"
   ]
  },
  {
   "cell_type": "code",
   "execution_count": null,
   "id": "0cc4013d-c86c-44b9-9aa4-76baef6441c3",
   "metadata": {},
   "outputs": [],
   "source": [
    "def retrieve_series_data(endpoint_name, json_series, connection, cursor):\n",
    "    # print(f\"retrieving series: {json_series['url']}\")\n",
    "    # series info\n",
    "    series_api_id, series_api_url, series_name, series_web_url = retrieve_basic_info(json_series)\n",
    "    series_created_date = json_series['date']\n",
    "    series_version = json_series['version']\n",
    "    series_total = json_series['total']\n",
    "    series_received_total = json_series['received_total']\n",
    "    \n",
    "    series_original_id = '-'.join([endpoint_name, 'series', str(series_api_id)])\n",
    "\n",
    "    #get cover letter content\n",
    "    if json_series['cover_letter']:\n",
    "        cover_letter_url = json_series['cover_letter']['url']\n",
    "        cover_detail = requests.get(cover_letter_url).json()\n",
    "        series_cover_letter_content = deactivate_quote(cover_detail['content'])\n",
    "    else: series_cover_letter_content = ''\n",
    "\n",
    "    # get project id\n",
    "    series_project_api_id = json_series['project']['id']\n",
    "    series_project_original_id = '-'.join([endpoint_name, 'project', str(series_project_api_id)])\n",
    "\n",
    "    # submitter info\n",
    "    series_submitter_api_id, series_submitter_api_url, _, _ = retrieve_basic_info(json_series['submitter'])\n",
    "    series_submitter_original_id = '-'.join([endpoint_name, 'people', str(series_submitter_api_id)])\n",
    "    series_submitter_email = deactivate_quote(json_series['submitter']['email'])\n",
    "    series_submitter_name = deactivate_quote(json_series['submitter']['name'])\n",
    "\n",
    "    # insert account if not exist\n",
    "    insert_account(cursor, series_submitter_original_id, series_submitter_email, series_submitter_name, series_submitter_api_url)\n",
    "    \n",
    "    # fetch account_id from account table\n",
    "    query_fetch_account_id = f'''SELECT id FROM account WHERE original_id = \"{series_submitter_original_id}\"'''\n",
    "    cursor.execute(query_fetch_account_id)\n",
    "    series_submitter_account_id = cursor.fetchall()[0][0]\n",
    "\n",
    "    query_insert_series = f'''INSERT IGNORE INTO series VALUES (null, \"{series_original_id}\", \"{series_name}\", \"{series_created_date}\", {series_version}, {series_total}, {series_received_total}, \"{series_cover_letter_content}\", \"{series_api_url}\", \"{series_web_url}\", \"{series_project_original_id}\", \"{series_submitter_original_id}\")'''\n",
    "    cursor.execute(query_insert_series)\n",
    "\n",
    "    connection.commit()"
   ]
  },
  {
   "cell_type": "code",
   "execution_count": null,
   "id": "f9bba4c5",
   "metadata": {
    "pycharm": {
     "name": "#%%\n"
    },
    "tags": []
   },
   "outputs": [],
   "source": [
    "def retrieve_comment_data(endpoint_name, json_comment, project_original_id, patch_original_id, connection, cursor):\n",
    "    # print(f\"retrieving comment, id: {json_comment['web_url']}\")\n",
    "    #comment info\n",
    "    comment_api_id = json_comment['id']\n",
    "    comment_original_id = '-'.join([endpoint_name, 'comment', str(comment_api_id)])\n",
    "    comment_web_url = json_comment['web_url']\n",
    "    comment_msg_id = json_comment['msgid']\n",
    "    comment_msg_content = deactivate_quote(json_comment['content'])\n",
    "    comment_date = json_comment['date']\n",
    "    comment_subject = deactivate_quote(json_comment['subject'])\n",
    "    comment_reply_to_msg_id = ''\n",
    "    if 'In-Reply-To' in json_comment['headers'].keys():\n",
    "        in_reply_to = json_comment['headers']['In-Reply-To']\n",
    "        if in_reply_to[:2] == '\\n ':\n",
    "            comment_reply_to_msg_id = in_reply_to[2:]\n",
    "\n",
    "    # TODO get mailing list id\n",
    "\n",
    "    # TODO get change id\n",
    "\n",
    "    # get submitter account id\n",
    "    # insert account if not exist\n",
    "    comment_submitter_api_id, comment_submitter__api_url, _, _ = retrieve_basic_info(json_comment['submitter'])\n",
    "    comment_submitter_original_id = '-'.join([endpoint_name, 'comment', comment_submitter_api_id])\n",
    "    comment_submitter_email = deactivate_quote(json_comment['submitter']['email'])\n",
    "    comment_submitter_username = deactivate_quote(json_comment['submitter']['name'])\n",
    "    \n",
    "    # insert account if not exist\n",
    "    insert_account(cursor, comment_submitter_original_id, comment_submitter_email, comment_submitter_username, comment_submitter__api_url)\n",
    "\n",
    "    try:\n",
    "        query_insert_comment = f'''INSERT IGNORE INTO comment VALUES (null, \"{comment_original_id}\", \"{comment_msg_id}\", \"{comment_msg_content}\", \"{comment_date}\", \"{comment_subject}\", \"{comment_reply_to_msg_id}\", \"{comment_web_url}\", null, \"{patch_original_id}\", null, \"{comment_submitter_original_id}\", \"{project_original_id}\")'''\n",
    "        cursor.execute(query_insert_comment)\n",
    "    except Error as e:\n",
    "        print(e)\n",
    "        print(query_insert_comment)"
   ]
  },
  {
   "cell_type": "code",
   "execution_count": null,
   "id": "2e5aaa5a-0055-4989-9f46-bf45839e2ca8",
   "metadata": {},
   "outputs": [],
   "source": [
    "def retrieve_patch_data(endpoint_name, json_patch, connection, cursor):\n",
    "    print(f\"retrieving patch {json_patch['url']}\")\n",
    "    #patch info\n",
    "    patch_api_id, patch_api_url, patch_name, patch_web_url = retrieve_basic_info(json_patch)\n",
    "    patch_state = deactivate_quote(json_patch['state'])\n",
    "    patch_date = json_patch['date']\n",
    "    patch_msg_id = json_patch['msgid']\n",
    "    patch_msg_content = deactivate_quote(json_patch['content'])\n",
    "    patch_code_diff = deactivate_quote(json_patch['diff'])\n",
    "    \n",
    "    patch_original_id = '-'.join([endpoint_name, 'patch', str(patch_api_id)])\n",
    "    patch_project_original_id = '-'.join([endpoint_name, 'project', str(json_patch['project']['id'])])\n",
    "\n",
    "    # TODO get change id\n",
    "    # TODO get mailing list id\n",
    "\n",
    "    # get series id\n",
    "    if json_patch['series']:\n",
    "        patch_series_api_id = json_patch['series']['id']\n",
    "        patch_series_original_id = '-'.join([endpoint_name, 'series', str(patch_series_api_id)])\n",
    "    else:\n",
    "        patch_series_id = ''\n",
    "\n",
    "    # get submitter account id\n",
    "    patch_submitter_api_id, patch_submitter_api_url, _, _ = retrieve_basic_info(json_patch['submitter'])\n",
    "    patch_submitter_original_id = '-'.join([endpoint_name, 'people', patch_submitter_api_id])\n",
    "    patch_submitter_email = deactivate_quote(json_patch['submitter']['email'])\n",
    "    patch_submitter_username = deactivate_quote(json_patch['submitter']['name'])\n",
    "\n",
    "    # insert account if not exist\n",
    "    insert_account(cursor, patch_submitter_original_id, patch_submitter_email, patch_submitter_username, patch_submitter_api_url)\n",
    "\n",
    "    try:\n",
    "        query_insert_patch = f'''INSERT IGNORE INTO patch VALUES (null, \"{patch_original_id}\", \"{patch_name}\", \"{patch_state}\", \"{patch_date}\", \"{patch_msg_id}\", \"{patch_msg_content}\", \"{patch_code_diff}\", \"{patch_web_url}\", \"{patch_api_url}\", null, null, \"{patch_series_original_id}\", \"{patch_submitter_original_id}\", \"{patch_project_original_id}\")'''\n",
    "        cursor.execute(query_insert_patch)\n",
    "    except:\n",
    "        query_insert_patch = f'''INSERT IGNORE INTO patch VALUES (null, \"{patch_original_id}\", \"{patch_name}\", \"{patch_state}\", \"{patch_date}\", \"{patch_msg_id}\", \"{patch_msg_content}\", \"{patch_code_diff}\", \"{patch_web_url}\", \"{patch_api_url}\", null, null, null, \"{patch_submitter_original_id}\", \"{patch_project_original_id}\")'''\n",
    "        cursor.execute(query_insert_patch)\n",
    "        print('Error occurred. New query completed.')\n",
    "\n",
    "    comment_url = json_patch['comments']\n",
    "    comment_list = requests.get(comment_url).json()\n",
    "    if comment_list:\n",
    "        for comment in comment_list:\n",
    "            crawl_comment_data(endpoint_name, comment, patch_project_original_id, patch_original_id, connection, cursor)\n",
    "\n",
    "    connection.commit()\n",
    "\n",
    "# def retrieved_item(name, cursor):\n",
    "#     query = f'''SELECT original_id from {name}'''\n",
    "#     cursor.execute(query)\n",
    "#     result = [item[0] for item in cursor.fetchall()]\n",
    "#     return result"
   ]
  },
  {
   "cell_type": "code",
   "execution_count": null,
   "id": "6aa1d64a-e605-49d1-9d4d-2b836e69c81e",
   "metadata": {},
   "outputs": [],
   "source": [
    "MAX_THREAD = 6\n",
    "PAGE_START = 0\n",
    "BATCH = 250\n",
    "\n",
    "def main_func(api_url_base, endpoint_name, entity_type, thread_no):\n",
    "    connection = connect(HOST, DATABASE, USER, PASSWORD)\n",
    "    cursor = connection.cursor()\n",
    "    \n",
    "    page_num = PAGE_START + thread_no\n",
    "    response = requests.get(api_url_base %(endpoint_name, entity_type, page_num)).json()\n",
    "\n",
    "    retrieval_func = {\n",
    "        'projects': retrieve_project_data,\n",
    "        'series': retrieve_series_data,\n",
    "        'patches': retrieve_patch_data\n",
    "    }\n",
    "\n",
    "    while response != INVALID_PAGE and page_num <= PAGE_START + BATCH:\n",
    "        # print('%s: page%d started' %entity_type)\n",
    "        p_start_time = time.time()\n",
    "\n",
    "        for entity in response:\n",
    "            entity_api_url = entity['url']\n",
    "            entity_detail = requests.get(entity_api_url).json()\n",
    "\n",
    "            retrieval_func[entity_type](endpoint_name, entity_detail, connection, cursor)\n",
    "        \n",
    "        total_time = time.time() - p_start_time\n",
    "        print('%s:\\tpage%d\\tcompleted in %.2f s' %(entity_type, page_num, total_time))\n",
    "\n",
    "        page_num += MAX_THREAD\n",
    "        response = requests.get(api_url_base %(endpoint_name, entity_type, page_num)).json()\n",
    "    \n",
    "    connection.commit()\n",
    "    connection.close()\n",
    "    connection.close()\n",
    "\n",
    "def crawl_entity(api_url_base, endpoint_name, entity_type):\n",
    "    threads = [Thread(target=main_func, args=(api_url_base, endpoint_name, entity_type, thread_no)) for thread_no in range(1, MAX_THREAD + 1)]\n",
    "    for thread in threads:\n",
    "        thread.start()\n",
    "    \n",
    "    for thread in threads:\n",
    "        thread.join()\n",
    "    # main_func(api_url_base, endpoint_name, database, entity_type, 1)"
   ]
  },
  {
   "cell_type": "code",
   "execution_count": null,
   "id": "9b5547bc-d788-4424-8b68-e08d27a2794c",
   "metadata": {},
   "outputs": [],
   "source": [
    "def crawl_data(endpoint_name):\n",
    "    start_time = time.time()\n",
    "    api_url_base = 'https://patchwork.%s.org/api/%s/?page=%d'\n",
    "    entity_types = ['projects', 'series', 'patches']\n",
    "\n",
    "    [crawl_entity(api_url_base, endpoint_name, entity_type) for entity_type in entity_types]\n",
    "    \n",
    "    duration = (time.time() - start_time) / 60\n",
    "    print('Retrieval completed in %.2f min' %duration)"
   ]
  },
  {
   "cell_type": "code",
   "execution_count": null,
   "id": "8e2bdd2d",
   "metadata": {
    "pycharm": {
     "name": "#%%\n"
    },
    "tags": []
   },
   "outputs": [],
   "source": [
    "crawl_data(NAME[2])"
   ]
  },
  {
   "cell_type": "code",
   "execution_count": null,
   "id": "8c42f629",
   "metadata": {
    "collapsed": false,
    "jupyter": {
     "outputs_hidden": false
    },
    "pycharm": {
     "name": "#%%\n"
    }
   },
   "outputs": [],
   "source": []
  }
 ],
 "metadata": {
  "kernelspec": {
   "display_name": "Python 3 (ipykernel)",
   "language": "python",
   "name": "python3"
  },
  "language_info": {
   "codemirror_mode": {
    "name": "ipython",
    "version": 3
   },
   "file_extension": ".py",
   "mimetype": "text/x-python",
   "name": "python",
   "nbconvert_exporter": "python",
   "pygments_lexer": "ipython3",
   "version": "3.7.13"
  }
 },
 "nbformat": 4,
 "nbformat_minor": 5
}
